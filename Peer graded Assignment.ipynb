{
 "cells": [
  {
   "cell_type": "markdown",
   "id": "154c4861",
   "metadata": {},
   "source": [
    "# Gerhard Dippenaar Graded Assignment Notebook"
   ]
  },
  {
   "cell_type": "markdown",
   "id": "9249b265",
   "metadata": {},
   "source": [
    "#### This notebook will serve as evidence of completing the *Tools for Data Science* section of the IBM Data Science Professional Certificate for Gerhard Dippenaar. "
   ]
  },
  {
   "cell_type": "markdown",
   "id": "ebcb3e81",
   "metadata": {},
   "source": [
    "**These are the 3 most popular data science languages.**\n",
    "\n",
    "* Python\n",
    "* R\n",
    "* SQL"
   ]
  },
  {
   "cell_type": "markdown",
   "id": "914ae9f0",
   "metadata": {},
   "source": [
    "|Tool name|Category|Open source|\n",
    "|:---|:---|:---|\n",
    "|MySQL|Data Management|Yes|\n",
    "|IMB DB2| Data Managment|No|\n",
    "|Tableau|Data Visualization|No|\n",
    "|Kibana|Data Visualization|Yes|\n",
    "\n"
   ]
  },
  {
   "cell_type": "markdown",
   "id": "f5ccd8e1",
   "metadata": {},
   "source": [
    "**These coding snippets will demonstrate how to use Python to perform simple arithmetic expressions.** <br>\n",
    "* Cell 7 is a program that asks the user to enter two numbers, then asks for the operation, performs it, and prints the results.\n",
    "* Cell 8 converts minutes into hours"
   ]
  },
  {
   "cell_type": "code",
   "execution_count": 7,
   "id": "2df763d2",
   "metadata": {},
   "outputs": [
    {
     "name": "stdout",
     "output_type": "stream",
     "text": [
      "Enter the first number: 4\n",
      "Enter the second number: 7\n",
      "Press 'a' to add the numbers. Press 'm' to multiply them.  a\n",
      "The sum of 4 and 7 is 11.\n"
     ]
    }
   ],
   "source": [
    "# Prompt the user to enter two numbers\n",
    "num1 = int(input(\"Enter the first number: \"))\n",
    "num2 = int(input(\"Enter the second number: \"))\n",
    "\n",
    "# Ask the user if they want to multiply or add the numbers\n",
    "operation = input(\"Press 'a' to add the numbers. Press 'm' to multiply them.  \")\n",
    "\n",
    "# Do the operation and print the result\n",
    "if operation == \"m\":\n",
    "    result = num1 * num2\n",
    "    print(f\"The product of {num1} and {num2} is {result}.\")\n",
    "elif operation == \"a\":\n",
    "    result = num1 + num2\n",
    "    print(f\"The sum of {num1} and {num2} is {result}.\")\n",
    "else:\n",
    "    print(\"Invalid operation. Please enter 'm' or 'a'.\")"
   ]
  },
  {
   "cell_type": "code",
   "execution_count": 8,
   "id": "b1d3564c",
   "metadata": {},
   "outputs": [
    {
     "name": "stdout",
     "output_type": "stream",
     "text": [
      "Enter the number of minutes: 134\n",
      "134 minutes is 2 hours and 14 minutes.\n"
     ]
    }
   ],
   "source": [
    "# Prompt the user to enter minutes\n",
    "minutes = int(input(\"Enter the number of minutes: \"))\n",
    "\n",
    "# Convert minutes to hours and minutes\n",
    "hours = minutes // 60\n",
    "remaining_minutes = minutes % 60\n",
    "\n",
    "# Print the result\n",
    "print(f\"{minutes} minutes is {hours} hours and {remaining_minutes} minutes.\")"
   ]
  },
  {
   "cell_type": "markdown",
   "id": "2746ea14",
   "metadata": {},
   "source": [
    "**The objectives of this activity is to:** <br>\n",
    "* Create and share a public Jupyter notebook, in any language, in Watson Studio and create markdown cells for peer review.\n",
    "* Evaluate and grade final assignments submitted by fellow learners using the given rubric. Provide constructive feedback and offer ideas and suggestions that fellow learners can apply right away."
   ]
  },
  {
   "cell_type": "markdown",
   "id": "18e4ce69",
   "metadata": {},
   "source": [
    "Writen by **Gerhard Dippenaar**."
   ]
  },
  {
   "cell_type": "code",
   "execution_count": null,
   "id": "4302c7f3",
   "metadata": {},
   "outputs": [],
   "source": []
  }
 ],
 "metadata": {
  "kernelspec": {
   "display_name": "Python 3 (ipykernel)",
   "language": "python",
   "name": "python3"
  },
  "language_info": {
   "codemirror_mode": {
    "name": "ipython",
    "version": 3
   },
   "file_extension": ".py",
   "mimetype": "text/x-python",
   "name": "python",
   "nbconvert_exporter": "python",
   "pygments_lexer": "ipython3",
   "version": "3.9.13"
  }
 },
 "nbformat": 4,
 "nbformat_minor": 5
}
